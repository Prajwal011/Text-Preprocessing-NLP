{
 "cells": [
  {
   "cell_type": "code",
   "execution_count": 1,
   "metadata": {},
   "outputs": [],
   "source": [
    "# !pip install tensorflow"
   ]
  },
  {
   "cell_type": "code",
   "execution_count": 2,
   "metadata": {},
   "outputs": [],
   "source": [
    "# !pip install gensim"
   ]
  },
  {
   "cell_type": "code",
   "execution_count": 3,
   "metadata": {},
   "outputs": [],
   "source": [
    "# !pip install transformers"
   ]
  },
  {
   "cell_type": "code",
   "execution_count": 9,
   "metadata": {
    "id": "MlQGFYbaZLAF"
   },
   "outputs": [],
   "source": [
    "import os\n",
    "import numpy as np\n",
    "import pandas as pd\n",
    "from sklearn.model_selection import train_test_split\n",
    "from sklearn.feature_extraction.text import TfidfVectorizer\n",
    "from sklearn.metrics import accuracy_score, f1_score, precision_score, recall_score\n",
    "import tensorflow as tf\n",
    "from tensorflow.keras.preprocessing.text import Tokenizer\n",
    "from tensorflow.keras.preprocessing.sequence import pad_sequences\n",
    "from tensorflow.keras.models import Sequential\n",
    "from tensorflow.keras.layers import Embedding, Conv1D, MaxPooling1D, Bidirectional, LSTM, Dense, Dropout,Flatten\n",
    "from transformers import BertTokenizer, TFBertModel\n",
    "from gensim.models.fasttext import FastText\n",
    "from sklearn.metrics import classification_report\n",
    "import keras\n",
    "from sklearn.metrics import confusion_matrix\n",
    "import seaborn as sns\n",
    "from keras import backend as K\n",
    "from keras import Model\n",
    "from tensorflow.keras.layers import Layer,SimpleRNN,Input,Attention"
   ]
  },
  {
   "cell_type": "code",
   "execution_count": 10,
   "metadata": {
    "id": "EGX5Z1xRZRHv"
   },
   "outputs": [],
   "source": [
    "def read_text_files(folder_path):\n",
    "    texts = []\n",
    "    for filename in os.listdir(folder_path):\n",
    "        with open(os.path.join(folder_path, filename), 'r', encoding='utf-8') as file:\n",
    "            text = file.read()\n",
    "            texts.append(text)\n",
    "    return texts\n",
    "\n",
    "# Read texts from each folder\n",
    "texts_class_0 = read_text_files('class_0')\n",
    "texts_class_1 = read_text_files('class_1')\n",
    "texts_class_2 = read_text_files('class_2')\n",
    "texts_class_3 = read_text_files('class_3')\n",
    "texts_class_4 = read_text_files('class_4')\n",
    "\n",
    "# Combine all texts and corresponding labels\n",
    "texts = texts_class_0 + texts_class_1 + texts_class_2 + texts_class_3 + texts_class_4\n",
    "labels = [0]*len(texts_class_0) + [1]*len(texts_class_1) + [2]*len(texts_class_2) + [3]*len(texts_class_3) + [4]*len(texts_class_4)\n",
    "\n",
    "# Perform text preprocessing (stopword removal, TF-IDF vectorization, etc.)\n",
    "tfidf_vectorizer = TfidfVectorizer(stop_words='english')\n",
    "X_tfidf = tfidf_vectorizer.fit_transform(texts).toarray()\n",
    "\n",
    "# Word embedding using FastText\n",
    "fasttext_model = FastText(sentences=[text.split() for text in texts], vector_size=100, window=5, min_count=1, workers=4)\n",
    "\n",
    "# Tokenize texts for BERT embedding\n",
    "tokenizer = BertTokenizer.from_pretrained('bert-base-uncased')\n",
    "tokenized_texts = [tokenizer.encode(text, add_special_tokens=True, max_length=512, truncation=True) for text in texts]\n",
    "X_bert = pad_sequences(tokenized_texts, maxlen=512, dtype=\"long\", value=0, truncating=\"post\", padding=\"post\")"
   ]
  },
  {
   "cell_type": "code",
   "execution_count": 11,
   "metadata": {},
   "outputs": [],
   "source": [
    "# X_test"
   ]
  },
  {
   "cell_type": "code",
   "execution_count": 12,
   "metadata": {
    "id": "UmOQJAPvZqdF"
   },
   "outputs": [
    {
     "name": "stdout",
     "output_type": "stream",
     "text": [
      "Epoch 1/10\n",
      "2/2 [==============================] - 1s 399ms/step - loss: 0.3795 - accuracy: 0.2292 - precision_2: 0.4583 - recall_2: 1.0000 - val_loss: -1.3286 - val_accuracy: 0.3077 - val_precision_2: 0.6154 - val_recall_2: 1.0000\n",
      "Epoch 2/10\n",
      "2/2 [==============================] - 0s 172ms/step - loss: 0.3451 - accuracy: 0.2292 - precision_2: 0.4583 - recall_2: 1.0000 - val_loss: -1.9864 - val_accuracy: 0.3077 - val_precision_2: 0.6154 - val_recall_2: 1.0000\n",
      "Epoch 3/10\n",
      "2/2 [==============================] - 0s 185ms/step - loss: 0.8333 - accuracy: 0.2292 - precision_2: 0.4583 - recall_2: 1.0000 - val_loss: -2.1770 - val_accuracy: 0.3077 - val_precision_2: 0.6154 - val_recall_2: 1.0000\n",
      "Epoch 4/10\n",
      "2/2 [==============================] - 0s 204ms/step - loss: 0.5018 - accuracy: 0.2292 - precision_2: 0.4583 - recall_2: 1.0000 - val_loss: -1.4609 - val_accuracy: 0.3077 - val_precision_2: 0.6154 - val_recall_2: 1.0000\n",
      "Epoch 5/10\n",
      "2/2 [==============================] - 1s 212ms/step - loss: 0.2221 - accuracy: 0.2292 - precision_2: 0.4583 - recall_2: 1.0000 - val_loss: -0.6844 - val_accuracy: 0.3077 - val_precision_2: 0.6154 - val_recall_2: 1.0000\n",
      "Epoch 6/10\n",
      "2/2 [==============================] - 0s 197ms/step - loss: 0.1138 - accuracy: 0.2292 - precision_2: 0.4583 - recall_2: 1.0000 - val_loss: -0.0499 - val_accuracy: 0.3077 - val_precision_2: 0.6154 - val_recall_2: 1.0000\n",
      "Epoch 7/10\n",
      "2/2 [==============================] - 0s 198ms/step - loss: 0.2931 - accuracy: 0.2292 - precision_2: 0.4583 - recall_2: 1.0000 - val_loss: 0.3251 - val_accuracy: 0.3077 - val_precision_2: 0.6154 - val_recall_2: 1.0000\n",
      "Epoch 8/10\n",
      "2/2 [==============================] - 0s 188ms/step - loss: 0.5354 - accuracy: 0.2292 - precision_2: 0.4583 - recall_2: 1.0000 - val_loss: 0.4382 - val_accuracy: 0.3077 - val_precision_2: 0.6154 - val_recall_2: 1.0000\n",
      "Epoch 9/10\n",
      "2/2 [==============================] - 0s 199ms/step - loss: 0.5467 - accuracy: 0.2292 - precision_2: 0.4583 - recall_2: 1.0000 - val_loss: 0.3567 - val_accuracy: 0.3077 - val_precision_2: 0.6154 - val_recall_2: 1.0000\n",
      "Epoch 10/10\n",
      "2/2 [==============================] - 0s 204ms/step - loss: 0.5135 - accuracy: 0.2292 - precision_2: 0.4583 - recall_2: 1.0000 - val_loss: 0.2275 - val_accuracy: 0.3077 - val_precision_2: 0.6154 - val_recall_2: 1.0000\n",
      "Epoch 1/10\n",
      "2/2 [==============================] - 12s 4s/step - loss: 0.6681 - accuracy: 0.2292 - precision_3: 0.4583 - recall_3: 1.0000 - val_loss: 0.5845 - val_accuracy: 0.3077 - val_precision_3: 0.6154 - val_recall_3: 1.0000\n",
      "Epoch 2/10\n",
      "2/2 [==============================] - 7s 3s/step - loss: 0.6290 - accuracy: 0.2292 - precision_3: 0.4583 - recall_3: 1.0000 - val_loss: 0.4902 - val_accuracy: 0.3077 - val_precision_3: 0.6154 - val_recall_3: 1.0000\n",
      "Epoch 3/10\n",
      "2/2 [==============================] - 8s 3s/step - loss: 0.5704 - accuracy: 0.2292 - precision_3: 0.4583 - recall_3: 1.0000 - val_loss: 0.3774 - val_accuracy: 0.3077 - val_precision_3: 0.6154 - val_recall_3: 1.0000\n",
      "Epoch 4/10\n",
      "2/2 [==============================] - 7s 3s/step - loss: 0.5077 - accuracy: 0.2292 - precision_3: 0.4583 - recall_3: 1.0000 - val_loss: 0.2169 - val_accuracy: 0.3077 - val_precision_3: 0.6154 - val_recall_3: 1.0000\n",
      "Epoch 5/10\n",
      "2/2 [==============================] - 7s 3s/step - loss: 0.3985 - accuracy: 0.2292 - precision_3: 0.4583 - recall_3: 1.0000 - val_loss: -0.0080 - val_accuracy: 0.3077 - val_precision_3: 0.6154 - val_recall_3: 1.0000\n",
      "Epoch 6/10\n",
      "2/2 [==============================] - 8s 3s/step - loss: 0.3259 - accuracy: 0.2292 - precision_3: 0.4583 - recall_3: 1.0000 - val_loss: -0.2995 - val_accuracy: 0.3077 - val_precision_3: 0.6154 - val_recall_3: 1.0000\n",
      "Epoch 7/10\n",
      "2/2 [==============================] - 8s 3s/step - loss: 0.2463 - accuracy: 0.2292 - precision_3: 0.4583 - recall_3: 1.0000 - val_loss: -0.4427 - val_accuracy: 0.3077 - val_precision_3: 0.6154 - val_recall_3: 1.0000\n",
      "Epoch 8/10\n",
      "2/2 [==============================] - 7s 3s/step - loss: 0.2239 - accuracy: 0.2292 - precision_3: 0.4583 - recall_3: 1.0000 - val_loss: -0.6391 - val_accuracy: 0.3077 - val_precision_3: 0.6154 - val_recall_3: 1.0000\n",
      "Epoch 9/10\n",
      "2/2 [==============================] - 8s 3s/step - loss: 0.2925 - accuracy: 0.2292 - precision_3: 0.4583 - recall_3: 1.0000 - val_loss: -0.8070 - val_accuracy: 0.3077 - val_precision_3: 0.6154 - val_recall_3: 1.0000\n",
      "Epoch 10/10\n",
      "2/2 [==============================] - 8s 3s/step - loss: 0.2483 - accuracy: 0.2292 - precision_3: 0.4583 - recall_3: 1.0000 - val_loss: -0.8520 - val_accuracy: 0.3077 - val_precision_3: 0.6154 - val_recall_3: 1.0000\n",
      "Epoch 1/10\n",
      "2/2 [==============================] - 1s 358ms/step - loss: 2.5199 - val_loss: 3.2228\n",
      "Epoch 2/10\n",
      "2/2 [==============================] - 0s 201ms/step - loss: 2.5130 - val_loss: 3.2136\n",
      "Epoch 3/10\n",
      "2/2 [==============================] - 0s 203ms/step - loss: 2.5059 - val_loss: 3.2044\n",
      "Epoch 4/10\n",
      "2/2 [==============================] - 0s 208ms/step - loss: 2.4990 - val_loss: 3.1948\n",
      "Epoch 5/10\n",
      "2/2 [==============================] - 0s 250ms/step - loss: 2.4922 - val_loss: 3.1853\n",
      "Epoch 6/10\n",
      "2/2 [==============================] - 0s 241ms/step - loss: 2.4843 - val_loss: 3.1760\n",
      "Epoch 7/10\n",
      "2/2 [==============================] - 0s 219ms/step - loss: 2.4777 - val_loss: 3.1663\n",
      "Epoch 8/10\n",
      "2/2 [==============================] - 0s 219ms/step - loss: 2.4699 - val_loss: 3.1572\n",
      "Epoch 9/10\n",
      "2/2 [==============================] - 0s 220ms/step - loss: 2.4630 - val_loss: 3.1495\n",
      "Epoch 10/10\n",
      "2/2 [==============================] - 0s 243ms/step - loss: 2.4557 - val_loss: 3.1407\n"
     ]
    },
    {
     "data": {
      "text/plain": [
       "<keras.callbacks.History at 0x125f05586a0>"
      ]
     },
     "execution_count": 12,
     "metadata": {},
     "output_type": "execute_result"
    }
   ],
   "source": [
    "# Define model architectures for CNN and BiRNN\n",
    "def create_cnn_model(input_shape):\n",
    "    model = Sequential([\n",
    "        Embedding(input_dim=input_shape[1], output_dim=100, input_length=input_shape[1]),\n",
    "        Conv1D(128, 5, activation='relu'),\n",
    "        MaxPooling1D(pool_size=4),\n",
    "        Flatten(),\n",
    "        Dropout(0.2),\n",
    "        Dense(64, activation='relu'),\n",
    "        Dense(1, activation='softmax')\n",
    "    ])\n",
    "    model.compile(loss='binary_crossentropy', optimizer='adam', metrics=['accuracy',keras.metrics.Precision(),keras.metrics.Recall()])\n",
    "    return model\n",
    "\n",
    "def create_birnn_model(input_shape):\n",
    "    model = Sequential([\n",
    "        Embedding(input_dim=input_shape[1], output_dim=100, input_length=input_shape[1]),\n",
    "        Bidirectional(LSTM(64, dropout=0.2, recurrent_dropout=0.2)),\n",
    "        Dense(64, activation='relu'),\n",
    "        Dense(1, activation='softmax')\n",
    "    ])\n",
    "    model.compile(loss='binary_crossentropy', optimizer='adam', metrics=['accuracy',keras.metrics.Precision(),keras.metrics.Recall()])\n",
    "    return model\n",
    "\n",
    "# Add attention layer to the deep learning network\n",
    "class attention(Layer):\n",
    "    def __init__(self,**kwargs):\n",
    "        super(attention,self).__init__(**kwargs)\n",
    "\n",
    "    def build(self,input_shape):\n",
    "        self.W=self.add_weight(name='attention_weight', shape=(input_shape[-1],1), \n",
    "                               initializer='random_normal', trainable=True)\n",
    "        self.b=self.add_weight(name='attention_bias', shape=(input_shape[1],1), \n",
    "                               initializer='zeros', trainable=True)        \n",
    "        super(attention, self).build(input_shape)\n",
    "\n",
    "    def call(self,x):\n",
    "        # Alignment scores. Pass them through tanh function\n",
    "        e = K.tanh(K.dot(x,self.W)+self.b)\n",
    "        # Remove dimension of size 1\n",
    "        e = K.squeeze(e, axis=-1)   \n",
    "        # Compute the weights\n",
    "        alpha = K.softmax(e)\n",
    "        # Reshape to tensorFlow format\n",
    "        alpha = K.expand_dims(alpha, axis=-1)\n",
    "        # Compute the context vector\n",
    "        context = x * alpha\n",
    "        context = K.sum(context, axis=1)\n",
    "        return context\n",
    "def create_RNN_with_attention(hidden_units, dense_units, input_shape, activation):\n",
    "    x=Input(shape=input_shape)\n",
    "    RNN_layer = SimpleRNN(hidden_units, return_sequences=True, activation=activation)(x)\n",
    "    attention_layer = attention()(RNN_layer)\n",
    "    outputs=Dense(dense_units, trainable=True, activation=activation)(attention_layer)\n",
    "    model=Model(x,outputs)\n",
    "    model.compile(loss='mse', optimizer='adam')    \n",
    "    return model    \n",
    "\n",
    "# Split data into train and test sets\n",
    "X_train, X_test, y_train, y_test = train_test_split(X_tfidf, labels, test_size=0.2, random_state=42)\n",
    "\n",
    "# Train and evaluate CNN model\n",
    "cnn_model = create_cnn_model(X_train.shape)\n",
    "cnn_model.fit(np.array(X_train), np.array(y_train), epochs=10, batch_size=32, validation_data=(np.array(X_test), np.array(y_test)))\n",
    "\n",
    "# Train and evaluate BiRNN model\n",
    "birnn_model = create_birnn_model(X_train.shape)\n",
    "birnn_model.fit(np.array(X_train), np.array(y_train), epochs=10, batch_size=32, validation_data=(np.array(X_test), np.array(y_test)))\n",
    "\n",
    "time_steps = np.array(X_train).shape[1]\n",
    "hidden_units = 2\n",
    "epochs = 30\n",
    "\n",
    "model_attention = create_RNN_with_attention(hidden_units=hidden_units, dense_units=1, \n",
    "                                  input_shape=(time_steps,1), activation='tanh')\n",
    "model_attention.fit(np.array(X_train), np.array(y_train), epochs=10, batch_size=32, validation_data=(np.array(X_test), np.array(y_test)))\n"
   ]
  },
  {
   "cell_type": "code",
   "execution_count": 13,
   "metadata": {},
   "outputs": [],
   "source": [
    "# Evaluate models\n",
    "def evaluate_model(model, X_test, y_test):\n",
    "    y_pred = np.argmax(model.predict(X_test), axis=-1)\n",
    "    accuracy = accuracy_score(y_test, y_pred)\n",
    "    f1 = f1_score(y_test, y_pred, average='weighted')\n",
    "    precision = precision_score(y_test, y_pred, average='weighted')\n",
    "    recall = recall_score(y_test, y_pred, average='weighted')\n",
    "    cf= classification_report(y_pred,y_test)\n",
    "\n",
    "    conf_matrix = confusion_matrix(y_pred,y_test)\n",
    "    sns.heatmap(conf_matrix,annot=True,cmap='coolwarm')\n",
    "    return accuracy, f1, precision, recall,cf\n"
   ]
  },
  {
   "cell_type": "code",
   "execution_count": 14,
   "metadata": {},
   "outputs": [
    {
     "name": "stderr",
     "output_type": "stream",
     "text": [
      "C:\\Users\\prajwal\\anaconda3\\lib\\site-packages\\sklearn\\metrics\\_classification.py:1245: UndefinedMetricWarning: Precision is ill-defined and being set to 0.0 in labels with no predicted samples. Use `zero_division` parameter to control this behavior.\n",
      "  _warn_prf(average, modifier, msg_start, len(result))\n",
      "C:\\Users\\prajwal\\anaconda3\\lib\\site-packages\\sklearn\\metrics\\_classification.py:1245: UndefinedMetricWarning: Recall and F-score are ill-defined and being set to 0.0 in labels with no true samples. Use `zero_division` parameter to control this behavior.\n",
      "  _warn_prf(average, modifier, msg_start, len(result))\n",
      "C:\\Users\\prajwal\\anaconda3\\lib\\site-packages\\sklearn\\metrics\\_classification.py:1245: UndefinedMetricWarning: Recall and F-score are ill-defined and being set to 0.0 in labels with no true samples. Use `zero_division` parameter to control this behavior.\n",
      "  _warn_prf(average, modifier, msg_start, len(result))\n",
      "C:\\Users\\prajwal\\anaconda3\\lib\\site-packages\\sklearn\\metrics\\_classification.py:1245: UndefinedMetricWarning: Recall and F-score are ill-defined and being set to 0.0 in labels with no true samples. Use `zero_division` parameter to control this behavior.\n",
      "  _warn_prf(average, modifier, msg_start, len(result))\n"
     ]
    },
    {
     "name": "stdout",
     "output_type": "stream",
     "text": [
      "CNN Model Metrics:\n",
      "Accuracy: 0.38461538461538464, F1 Score: 0.21367521367521367, Precision: 0.14792899408284024, Recall: 0.38461538461538464\n",
      "Accuracy,Precision,Recall and F1 score for each class\n",
      "              precision    recall  f1-score   support\n",
      "\n",
      "           0       1.00      0.38      0.56        13\n",
      "           1       0.00      0.00      0.00         0\n",
      "           2       0.00      0.00      0.00         0\n",
      "           3       0.00      0.00      0.00         0\n",
      "           4       0.00      0.00      0.00         0\n",
      "\n",
      "    accuracy                           0.38        13\n",
      "   macro avg       0.20      0.08      0.11        13\n",
      "weighted avg       1.00      0.38      0.56        13\n",
      "\n"
     ]
    },
    {
     "data": {
      "image/png": "[encoded data removed]",
      "text/plain": [
       "<Figure size 432x288 with 2 Axes>"
      ]
     },
     "metadata": {
      "needs_background": "light"
     },
     "output_type": "display_data"
    }
   ],
   "source": [
    "cnn_accuracy, cnn_f1, cnn_precision, cnn_recall,cnn_cf = evaluate_model(cnn_model, X_test, y_test)\n",
    "\n",
    "print(\"CNN Model Metrics:\")\n",
    "print(f\"Accuracy: {cnn_accuracy}, F1 Score: {cnn_f1}, Precision: {cnn_precision}, Recall: {cnn_recall}\")\n",
    "print(f\"Accuracy,Precision,Recall and F1 score for each class\\n{cnn_cf}\")"
   ]
  },
  {
   "cell_type": "code",
   "execution_count": 15,
   "metadata": {},
   "outputs": [
    {
     "name": "stderr",
     "output_type": "stream",
     "text": [
      "C:\\Users\\prajwal\\anaconda3\\lib\\site-packages\\sklearn\\metrics\\_classification.py:1245: UndefinedMetricWarning: Precision is ill-defined and being set to 0.0 in labels with no predicted samples. Use `zero_division` parameter to control this behavior.\n",
      "  _warn_prf(average, modifier, msg_start, len(result))\n",
      "C:\\Users\\prajwal\\anaconda3\\lib\\site-packages\\sklearn\\metrics\\_classification.py:1245: UndefinedMetricWarning: Recall and F-score are ill-defined and being set to 0.0 in labels with no true samples. Use `zero_division` parameter to control this behavior.\n",
      "  _warn_prf(average, modifier, msg_start, len(result))\n",
      "C:\\Users\\prajwal\\anaconda3\\lib\\site-packages\\sklearn\\metrics\\_classification.py:1245: UndefinedMetricWarning: Recall and F-score are ill-defined and being set to 0.0 in labels with no true samples. Use `zero_division` parameter to control this behavior.\n",
      "  _warn_prf(average, modifier, msg_start, len(result))\n",
      "C:\\Users\\prajwal\\anaconda3\\lib\\site-packages\\sklearn\\metrics\\_classification.py:1245: UndefinedMetricWarning: Recall and F-score are ill-defined and being set to 0.0 in labels with no true samples. Use `zero_division` parameter to control this behavior.\n",
      "  _warn_prf(average, modifier, msg_start, len(result))\n"
     ]
    },
    {
     "name": "stdout",
     "output_type": "stream",
     "text": [
      "BiRNN Model Metrics:\n",
      "Accuracy: 0.38461538461538464, F1 Score: 0.21367521367521367, Precision: 0.14792899408284024, Recall: 0.38461538461538464\n",
      "Accuracy,Precision,Recall and F1 score for each class\n",
      "              precision    recall  f1-score   support\n",
      "\n",
      "           0       1.00      0.38      0.56        13\n",
      "           1       0.00      0.00      0.00         0\n",
      "           2       0.00      0.00      0.00         0\n",
      "           3       0.00      0.00      0.00         0\n",
      "           4       0.00      0.00      0.00         0\n",
      "\n",
      "    accuracy                           0.38        13\n",
      "   macro avg       0.20      0.08      0.11        13\n",
      "weighted avg       1.00      0.38      0.56        13\n",
      "\n"
     ]
    },
    {
     "data": {
      "image/png": "[encoded data removed]",
      "text/plain": [
       "<Figure size 432x288 with 2 Axes>"
      ]
     },
     "metadata": {
      "needs_background": "light"
     },
     "output_type": "display_data"
    }
   ],
   "source": [
    "birnn_accuracy, birnn_f1, birnn_precision, birnn_recall,birnn_cf = evaluate_model(birnn_model, X_test, y_test)\n",
    "\n",
    "print(\"BiRNN Model Metrics:\")\n",
    "print(f\"Accuracy: {birnn_accuracy}, F1 Score: {birnn_f1}, Precision: {birnn_precision}, Recall: {birnn_recall}\")\n",
    "print(f\"Accuracy,Precision,Recall and F1 score for each class\\n{birnn_cf}\")\n"
   ]
  },
  {
   "cell_type": "code",
   "execution_count": 16,
   "metadata": {},
   "outputs": [
    {
     "name": "stderr",
     "output_type": "stream",
     "text": [
      "C:\\Users\\prajwal\\anaconda3\\lib\\site-packages\\sklearn\\metrics\\_classification.py:1245: UndefinedMetricWarning: Precision is ill-defined and being set to 0.0 in labels with no predicted samples. Use `zero_division` parameter to control this behavior.\n",
      "  _warn_prf(average, modifier, msg_start, len(result))\n",
      "C:\\Users\\prajwal\\anaconda3\\lib\\site-packages\\sklearn\\metrics\\_classification.py:1245: UndefinedMetricWarning: Recall and F-score are ill-defined and being set to 0.0 in labels with no true samples. Use `zero_division` parameter to control this behavior.\n",
      "  _warn_prf(average, modifier, msg_start, len(result))\n",
      "C:\\Users\\prajwal\\anaconda3\\lib\\site-packages\\sklearn\\metrics\\_classification.py:1245: UndefinedMetricWarning: Recall and F-score are ill-defined and being set to 0.0 in labels with no true samples. Use `zero_division` parameter to control this behavior.\n",
      "  _warn_prf(average, modifier, msg_start, len(result))\n",
      "C:\\Users\\prajwal\\anaconda3\\lib\\site-packages\\sklearn\\metrics\\_classification.py:1245: UndefinedMetricWarning: Recall and F-score are ill-defined and being set to 0.0 in labels with no true samples. Use `zero_division` parameter to control this behavior.\n",
      "  _warn_prf(average, modifier, msg_start, len(result))\n"
     ]
    },
    {
     "name": "stdout",
     "output_type": "stream",
     "text": [
      "Attention Model Metrics:\n",
      "Accuracy: 0.38461538461538464, F1 Score: 0.21367521367521367, Precision: 0.14792899408284024, Recall: 0.38461538461538464\n",
      "Accuracy,Precision,Recall and F1 score for each class\n",
      "              precision    recall  f1-score   support\n",
      "\n",
      "           0       1.00      0.38      0.56        13\n",
      "           1       0.00      0.00      0.00         0\n",
      "           2       0.00      0.00      0.00         0\n",
      "           3       0.00      0.00      0.00         0\n",
      "           4       0.00      0.00      0.00         0\n",
      "\n",
      "    accuracy                           0.38        13\n",
      "   macro avg       0.20      0.08      0.11        13\n",
      "weighted avg       1.00      0.38      0.56        13\n",
      "\n"
     ]
    },
    {
     "data": {
      "image/png": "[encoded data removed]",
      "text/plain": [
       "<Figure size 432x288 with 2 Axes>"
      ]
     },
     "metadata": {
      "needs_background": "light"
     },
     "output_type": "display_data"
    }
   ],
   "source": [
    "att_accuracy, att_f1, att_precision, att_recall,att_cf = evaluate_model(model_attention, X_test, y_test)\n",
    "\n",
    "print(\"Attention Model Metrics:\")\n",
    "print(f\"Accuracy: {att_accuracy}, F1 Score: {att_f1}, Precision: {att_precision}, Recall: {att_recall}\")\n",
    "print(f\"Accuracy,Precision,Recall and F1 score for each class\\n{att_cf}\")\n"
   ]
  },
  {
   "cell_type": "code",
   "execution_count": null,
   "metadata": {},
   "outputs": [],
   "source": []
  },
  {
   "cell_type": "code",
   "execution_count": null,
   "metadata": {},
   "outputs": [],
   "source": []
  },
  {
   "cell_type": "code",
   "execution_count": null,
   "metadata": {},
   "outputs": [],
   "source": []
  }
 ],
 "metadata": {
  "colab": {
   "provenance": []
  },
  "kernelspec": {
   "display_name": "Python 3",
   "language": "python",
   "name": "python3"
  },
  "language_info": {
   "codemirror_mode": {
    "name": "ipython",
    "version": 3
   },
   "file_extension": ".py",
   "mimetype": "text/x-python",
   "name": "python",
   "nbconvert_exporter": "python",
   "pygments_lexer": "ipython3",
   "version": "3.8.8"
  }
 },
 "nbformat": 4,
 "nbformat_minor": 1
}
