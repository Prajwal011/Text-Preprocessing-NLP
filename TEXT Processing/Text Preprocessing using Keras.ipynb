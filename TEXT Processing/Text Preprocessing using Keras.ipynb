{
 "cells": [
  {
   "cell_type": "code",
   "execution_count": 1,
   "metadata": {},
   "outputs": [],
   "source": [
    "# !pip install tensorflow"
   ]
  },
  {
   "cell_type": "code",
   "execution_count": 2,
   "metadata": {},
   "outputs": [],
   "source": [
    "# !pip install gensim"
   ]
  },
  {
   "cell_type": "code",
   "execution_count": 3,
   "metadata": {},
   "outputs": [],
   "source": [
    "# !pip install transformers"
   ]
  },
  {
   "cell_type": "code",
   "execution_count": 2,
   "metadata": {
    "id": "MlQGFYbaZLAF"
   },
   "outputs": [],
   "source": [
    "import os\n",
    "import numpy as np\n",
    "import pandas as pd\n",
    "from sklearn.model_selection import train_test_split\n",
    "from sklearn.feature_extraction.text import TfidfVectorizer\n",
    "from sklearn.metrics import accuracy_score, f1_score, precision_score, recall_score\n",
    "import tensorflow as tf\n",
    "from tensorflow.keras.preprocessing.text import Tokenizer\n",
    "from tensorflow.keras.preprocessing.sequence import pad_sequences\n",
    "from tensorflow.keras.models import Sequential\n",
    "from tensorflow.keras.layers import Embedding, Conv1D, MaxPooling1D, Bidirectional, LSTM, Dense, Dropout,Flatten\n",
    "from transformers import BertTokenizer, TFBertModel\n",
    "from gensim.models.fasttext import FastText\n",
    "from sklearn.metrics import classification_report\n",
    "import keras\n",
    "from sklearn.metrics import confusion_matrix\n",
    "import seaborn as sns\n",
    "from keras import backend as K\n",
    "from keras import Model\n",
    "from tensorflow.keras.layers import Layer,SimpleRNN"
   ]
  },
  {
   "cell_type": "code",
   "execution_count": 3,
   "metadata": {
    "id": "EGX5Z1xRZRHv"
   },
   "outputs": [],
   "source": [
    "def read_text_files(folder_path):\n",
    "    texts = []\n",
    "    for filename in os.listdir(folder_path):\n",
    "        with open(os.path.join(folder_path, filename), 'r', encoding='utf-8') as file:\n",
    "            text = file.read()\n",
    "            texts.append(text)\n",
    "    return texts\n",
    "\n",
    "# Read texts from each folder\n",
    "texts_class_0 = read_text_files('class_0')\n",
    "texts_class_1 = read_text_files('class_1')\n",
    "texts_class_2 = read_text_files('class_2')\n",
    "texts_class_3 = read_text_files('class_3')\n",
    "texts_class_4 = read_text_files('class_4')\n",
    "\n",
    "# Combine all texts and corresponding labels\n",
    "texts = texts_class_0 + texts_class_1 + texts_class_2 + texts_class_3 + texts_class_4\n",
    "labels = [0]*len(texts_class_0) + [1]*len(texts_class_1) + [2]*len(texts_class_2) + [3]*len(texts_class_3) + [4]*len(texts_class_4)\n",
    "\n",
    "# Perform text preprocessing (stopword removal, TF-IDF vectorization, etc.)\n",
    "tfidf_vectorizer = TfidfVectorizer(stop_words='english')\n",
    "X_tfidf = tfidf_vectorizer.fit_transform(texts).toarray()\n",
    "\n",
    "# Word embedding using FastText\n",
    "fasttext_model = FastText(sentences=[text.split() for text in texts], vector_size=100, window=5, min_count=1, workers=4)\n",
    "\n",
    "# Tokenize texts for BERT embedding\n",
    "tokenizer = BertTokenizer.from_pretrained('bert-base-uncased')\n",
    "tokenized_texts = [tokenizer.encode(text, add_special_tokens=True, max_length=512, truncation=True) for text in texts]\n",
    "X_bert = pad_sequences(tokenized_texts, maxlen=512, dtype=\"long\", value=0, truncating=\"post\", padding=\"post\")"
   ]
  },
  {
   "cell_type": "code",
   "execution_count": 4,
   "metadata": {},
   "outputs": [],
   "source": [
    "# X_test"
   ]
  },
  {
   "cell_type": "code",
   "execution_count": 5,
   "metadata": {
    "id": "UmOQJAPvZqdF"
   },
   "outputs": [
    {
     "name": "stdout",
     "output_type": "stream",
     "text": [
      "Epoch 1/10\n",
      "2/2 [==============================] - 1s 418ms/step - loss: 0.4923 - accuracy: 0.2292 - precision: 0.4583 - recall: 1.0000 - val_loss: -1.5225 - val_accuracy: 0.3077 - val_precision: 0.6154 - val_recall: 1.0000\n",
      "Epoch 2/10\n",
      "2/2 [==============================] - 0s 172ms/step - loss: 1.1390 - accuracy: 0.2292 - precision: 0.4583 - recall: 1.0000 - val_loss: -0.9785 - val_accuracy: 0.3077 - val_precision: 0.6154 - val_recall: 1.0000\n",
      "Epoch 3/10\n",
      "2/2 [==============================] - 0s 182ms/step - loss: 0.3482 - accuracy: 0.2292 - precision: 0.4583 - recall: 1.0000 - val_loss: -1.2300 - val_accuracy: 0.3077 - val_precision: 0.6154 - val_recall: 1.0000\n",
      "Epoch 4/10\n",
      "2/2 [==============================] - 0s 192ms/step - loss: 0.3441 - accuracy: 0.2292 - precision: 0.4583 - recall: 1.0000 - val_loss: -1.0645 - val_accuracy: 0.3077 - val_precision: 0.6154 - val_recall: 1.0000\n",
      "Epoch 5/10\n",
      "2/2 [==============================] - 0s 187ms/step - loss: 0.2923 - accuracy: 0.2292 - precision: 0.4583 - recall: 1.0000 - val_loss: -0.8369 - val_accuracy: 0.3077 - val_precision: 0.6154 - val_recall: 1.0000\n",
      "Epoch 6/10\n",
      "2/2 [==============================] - 0s 205ms/step - loss: 0.2837 - accuracy: 0.2292 - precision: 0.4583 - recall: 1.0000 - val_loss: -0.5310 - val_accuracy: 0.3077 - val_precision: 0.6154 - val_recall: 1.0000\n",
      "Epoch 7/10\n",
      "2/2 [==============================] - 0s 186ms/step - loss: 0.2239 - accuracy: 0.2292 - precision: 0.4583 - recall: 1.0000 - val_loss: -0.3711 - val_accuracy: 0.3077 - val_precision: 0.6154 - val_recall: 1.0000\n",
      "Epoch 8/10\n",
      "2/2 [==============================] - 0s 189ms/step - loss: 0.3191 - accuracy: 0.2292 - precision: 0.4583 - recall: 1.0000 - val_loss: -0.2384 - val_accuracy: 0.3077 - val_precision: 0.6154 - val_recall: 1.0000\n",
      "Epoch 9/10\n",
      "2/2 [==============================] - 0s 182ms/step - loss: 0.2637 - accuracy: 0.2292 - precision: 0.4583 - recall: 1.0000 - val_loss: -0.4061 - val_accuracy: 0.3077 - val_precision: 0.6154 - val_recall: 1.0000\n",
      "Epoch 10/10\n",
      "2/2 [==============================] - 0s 197ms/step - loss: 0.2756 - accuracy: 0.2292 - precision: 0.4583 - recall: 1.0000 - val_loss: -0.5707 - val_accuracy: 0.3077 - val_precision: 0.6154 - val_recall: 1.0000\n",
      "Epoch 1/10\n",
      "2/2 [==============================] - 11s 3s/step - loss: 0.6939 - accuracy: 0.2292 - precision_1: 0.4583 - recall_1: 1.0000 - val_loss: 0.6133 - val_accuracy: 0.3077 - val_precision_1: 0.6154 - val_recall_1: 1.0000\n",
      "Epoch 2/10\n",
      "2/2 [==============================] - 7s 3s/step - loss: 0.6459 - accuracy: 0.2292 - precision_1: 0.4583 - recall_1: 1.0000 - val_loss: 0.5316 - val_accuracy: 0.3077 - val_precision_1: 0.6154 - val_recall_1: 1.0000\n",
      "Epoch 3/10\n",
      "2/2 [==============================] - 7s 3s/step - loss: 0.5922 - accuracy: 0.2292 - precision_1: 0.4583 - recall_1: 1.0000 - val_loss: 0.4300 - val_accuracy: 0.3077 - val_precision_1: 0.6154 - val_recall_1: 1.0000\n",
      "Epoch 4/10\n",
      "2/2 [==============================] - 7s 3s/step - loss: 0.5286 - accuracy: 0.2292 - precision_1: 0.4583 - recall_1: 1.0000 - val_loss: 0.2830 - val_accuracy: 0.3077 - val_precision_1: 0.6154 - val_recall_1: 1.0000\n",
      "Epoch 5/10\n",
      "2/2 [==============================] - 7s 3s/step - loss: 0.4349 - accuracy: 0.2292 - precision_1: 0.4583 - recall_1: 1.0000 - val_loss: 0.0644 - val_accuracy: 0.3077 - val_precision_1: 0.6154 - val_recall_1: 1.0000\n",
      "Epoch 6/10\n",
      "2/2 [==============================] - 7s 3s/step - loss: 0.3719 - accuracy: 0.2292 - precision_1: 0.4583 - recall_1: 1.0000 - val_loss: -0.2293 - val_accuracy: 0.3077 - val_precision_1: 0.6154 - val_recall_1: 1.0000\n",
      "Epoch 7/10\n",
      "2/2 [==============================] - 7s 3s/step - loss: 0.2404 - accuracy: 0.2292 - precision_1: 0.4583 - recall_1: 1.0000 - val_loss: -0.4752 - val_accuracy: 0.3077 - val_precision_1: 0.6154 - val_recall_1: 1.0000\n",
      "Epoch 8/10\n",
      "2/2 [==============================] - 7s 3s/step - loss: 0.2099 - accuracy: 0.2292 - precision_1: 0.4583 - recall_1: 1.0000 - val_loss: -0.7196 - val_accuracy: 0.3077 - val_precision_1: 0.6154 - val_recall_1: 1.0000\n",
      "Epoch 9/10\n",
      "2/2 [==============================] - 8s 4s/step - loss: 0.2154 - accuracy: 0.2292 - precision_1: 0.4583 - recall_1: 1.0000 - val_loss: -0.8770 - val_accuracy: 0.3077 - val_precision_1: 0.6154 - val_recall_1: 1.0000\n",
      "Epoch 10/10\n",
      "2/2 [==============================] - 7s 3s/step - loss: 0.2845 - accuracy: 0.2292 - precision_1: 0.4583 - recall_1: 1.0000 - val_loss: -0.9988 - val_accuracy: 0.3077 - val_precision_1: 0.6154 - val_recall_1: 1.0000\n"
     ]
    },
    {
     "ename": "NameError",
     "evalue": "name 'Input' is not defined",
     "output_type": "error",
     "traceback": [
      "\u001b[1;31m---------------------------------------------------------------------------\u001b[0m",
      "\u001b[1;31mNameError\u001b[0m                                 Traceback (most recent call last)",
      "\u001b[1;32m<ipython-input-5-d9a90950f3fb>\u001b[0m in \u001b[0;36m<module>\u001b[1;34m\u001b[0m\n\u001b[0;32m     72\u001b[0m \u001b[0mepochs\u001b[0m \u001b[1;33m=\u001b[0m \u001b[1;36m30\u001b[0m\u001b[1;33m\u001b[0m\u001b[1;33m\u001b[0m\u001b[0m\n\u001b[0;32m     73\u001b[0m \u001b[1;33m\u001b[0m\u001b[0m\n\u001b[1;32m---> 74\u001b[1;33m model_attention = create_RNN_with_attention(hidden_units=hidden_units, dense_units=1, \n\u001b[0m\u001b[0;32m     75\u001b[0m                                   input_shape=(time_steps,1), activation='tanh')\n\u001b[0;32m     76\u001b[0m \u001b[0mmodel_attention\u001b[0m\u001b[1;33m.\u001b[0m\u001b[0mfit\u001b[0m\u001b[1;33m(\u001b[0m\u001b[0mnp\u001b[0m\u001b[1;33m.\u001b[0m\u001b[0marray\u001b[0m\u001b[1;33m(\u001b[0m\u001b[0mX_train\u001b[0m\u001b[1;33m)\u001b[0m\u001b[1;33m,\u001b[0m \u001b[0mnp\u001b[0m\u001b[1;33m.\u001b[0m\u001b[0marray\u001b[0m\u001b[1;33m(\u001b[0m\u001b[0my_train\u001b[0m\u001b[1;33m)\u001b[0m\u001b[1;33m,\u001b[0m \u001b[0mepochs\u001b[0m\u001b[1;33m=\u001b[0m\u001b[1;36m10\u001b[0m\u001b[1;33m,\u001b[0m \u001b[0mbatch_size\u001b[0m\u001b[1;33m=\u001b[0m\u001b[1;36m32\u001b[0m\u001b[1;33m,\u001b[0m \u001b[0mvalidation_data\u001b[0m\u001b[1;33m=\u001b[0m\u001b[1;33m(\u001b[0m\u001b[0mnp\u001b[0m\u001b[1;33m.\u001b[0m\u001b[0marray\u001b[0m\u001b[1;33m(\u001b[0m\u001b[0mX_test\u001b[0m\u001b[1;33m)\u001b[0m\u001b[1;33m,\u001b[0m \u001b[0mnp\u001b[0m\u001b[1;33m.\u001b[0m\u001b[0marray\u001b[0m\u001b[1;33m(\u001b[0m\u001b[0my_test\u001b[0m\u001b[1;33m)\u001b[0m\u001b[1;33m)\u001b[0m\u001b[1;33m)\u001b[0m\u001b[1;33m\u001b[0m\u001b[1;33m\u001b[0m\u001b[0m\n",
      "\u001b[1;32m<ipython-input-5-d9a90950f3fb>\u001b[0m in \u001b[0;36mcreate_RNN_with_attention\u001b[1;34m(hidden_units, dense_units, input_shape, activation)\u001b[0m\n\u001b[0;32m     49\u001b[0m         \u001b[1;32mreturn\u001b[0m \u001b[0mcontext\u001b[0m\u001b[1;33m\u001b[0m\u001b[1;33m\u001b[0m\u001b[0m\n\u001b[0;32m     50\u001b[0m \u001b[1;32mdef\u001b[0m \u001b[0mcreate_RNN_with_attention\u001b[0m\u001b[1;33m(\u001b[0m\u001b[0mhidden_units\u001b[0m\u001b[1;33m,\u001b[0m \u001b[0mdense_units\u001b[0m\u001b[1;33m,\u001b[0m \u001b[0minput_shape\u001b[0m\u001b[1;33m,\u001b[0m \u001b[0mactivation\u001b[0m\u001b[1;33m)\u001b[0m\u001b[1;33m:\u001b[0m\u001b[1;33m\u001b[0m\u001b[1;33m\u001b[0m\u001b[0m\n\u001b[1;32m---> 51\u001b[1;33m     \u001b[0mx\u001b[0m\u001b[1;33m=\u001b[0m\u001b[0mInput\u001b[0m\u001b[1;33m(\u001b[0m\u001b[0mshape\u001b[0m\u001b[1;33m=\u001b[0m\u001b[0minput_shape\u001b[0m\u001b[1;33m)\u001b[0m\u001b[1;33m\u001b[0m\u001b[1;33m\u001b[0m\u001b[0m\n\u001b[0m\u001b[0;32m     52\u001b[0m     \u001b[0mRNN_layer\u001b[0m \u001b[1;33m=\u001b[0m \u001b[0mSimpleRNN\u001b[0m\u001b[1;33m(\u001b[0m\u001b[0mhidden_units\u001b[0m\u001b[1;33m,\u001b[0m \u001b[0mreturn_sequences\u001b[0m\u001b[1;33m=\u001b[0m\u001b[1;32mTrue\u001b[0m\u001b[1;33m,\u001b[0m \u001b[0mactivation\u001b[0m\u001b[1;33m=\u001b[0m\u001b[0mactivation\u001b[0m\u001b[1;33m)\u001b[0m\u001b[1;33m(\u001b[0m\u001b[0mx\u001b[0m\u001b[1;33m)\u001b[0m\u001b[1;33m\u001b[0m\u001b[1;33m\u001b[0m\u001b[0m\n\u001b[0;32m     53\u001b[0m     \u001b[0mattention_layer\u001b[0m \u001b[1;33m=\u001b[0m \u001b[0mattention\u001b[0m\u001b[1;33m(\u001b[0m\u001b[1;33m)\u001b[0m\u001b[1;33m(\u001b[0m\u001b[0mRNN_layer\u001b[0m\u001b[1;33m)\u001b[0m\u001b[1;33m\u001b[0m\u001b[1;33m\u001b[0m\u001b[0m\n",
      "\u001b[1;31mNameError\u001b[0m: name 'Input' is not defined"
     ]
    }
   ],
   "source": [
    "# Define model architectures for CNN and BiRNN\n",
    "def create_cnn_model(input_shape):\n",
    "    model = Sequential([\n",
    "        Embedding(input_dim=input_shape[1], output_dim=100, input_length=input_shape[1]),\n",
    "        Conv1D(128, 5, activation='relu'),\n",
    "        MaxPooling1D(pool_size=4),\n",
    "        Flatten(),\n",
    "        Dropout(0.2),\n",
    "        Dense(64, activation='relu'),\n",
    "        Dense(1, activation='softmax')\n",
    "    ])\n",
    "    model.compile(loss='binary_crossentropy', optimizer='adam', metrics=['accuracy',keras.metrics.Precision(),keras.metrics.Recall()])\n",
    "    return model\n",
    "\n",
    "def create_birnn_model(input_shape):\n",
    "    model = Sequential([\n",
    "        Embedding(input_dim=input_shape[1], output_dim=100, input_length=input_shape[1]),\n",
    "        Bidirectional(LSTM(64, dropout=0.2, recurrent_dropout=0.2)),\n",
    "        Dense(64, activation='relu'),\n",
    "        Dense(1, activation='softmax')\n",
    "    ])\n",
    "    model.compile(loss='binary_crossentropy', optimizer='adam', metrics=['accuracy',keras.metrics.Precision(),keras.metrics.Recall()])\n",
    "    return model\n",
    "\n",
    "# Add attention layer to the deep learning network\n",
    "class attention(Layer):\n",
    "    def __init__(self,**kwargs):\n",
    "        super(attention,self).__init__(**kwargs)\n",
    "\n",
    "    def build(self,input_shape):\n",
    "        self.W=self.add_weight(name='attention_weight', shape=(input_shape[-1],1), \n",
    "                               initializer='random_normal', trainable=True)\n",
    "        self.b=self.add_weight(name='attention_bias', shape=(input_shape[1],1), \n",
    "                               initializer='zeros', trainable=True)        \n",
    "        super(attention, self).build(input_shape)\n",
    "\n",
    "    def call(self,x):\n",
    "        # Alignment scores. Pass them through tanh function\n",
    "        e = K.tanh(K.dot(x,self.W)+self.b)\n",
    "        # Remove dimension of size 1\n",
    "        e = K.squeeze(e, axis=-1)   \n",
    "        # Compute the weights\n",
    "        alpha = K.softmax(e)\n",
    "        # Reshape to tensorFlow format\n",
    "        alpha = K.expand_dims(alpha, axis=-1)\n",
    "        # Compute the context vector\n",
    "        context = x * alpha\n",
    "        context = K.sum(context, axis=1)\n",
    "        return context\n",
    "def create_RNN_with_attention(hidden_units, dense_units, input_shape, activation):\n",
    "    x=Input(shape=input_shape)\n",
    "    RNN_layer = SimpleRNN(hidden_units, return_sequences=True, activation=activation)(x)\n",
    "    attention_layer = attention()(RNN_layer)\n",
    "    outputs=Dense(dense_units, trainable=True, activation=activation)(attention_layer)\n",
    "    model=Model(x,outputs)\n",
    "    model.compile(loss='mse', optimizer='adam')    \n",
    "    return model    \n",
    "\n",
    "# Split data into train and test sets\n",
    "X_train, X_test, y_train, y_test = train_test_split(X_tfidf, labels, test_size=0.2, random_state=42)\n",
    "\n",
    "# Train and evaluate CNN model\n",
    "cnn_model = create_cnn_model(X_train.shape)\n",
    "cnn_model.fit(np.array(X_train), np.array(y_train), epochs=10, batch_size=32, validation_data=(np.array(X_test), np.array(y_test)))\n",
    "\n",
    "# Train and evaluate BiRNN model\n",
    "birnn_model = create_birnn_model(X_train.shape)\n",
    "birnn_model.fit(np.array(X_train), np.array(y_train), epochs=10, batch_size=32, validation_data=(np.array(X_test), np.array(y_test)))\n",
    "\n",
    "time_steps = np.array(X_train).shape[1]\n",
    "hidden_units = 2\n",
    "epochs = 30\n",
    "\n",
    "model_attention = create_RNN_with_attention(hidden_units=hidden_units, dense_units=1, \n",
    "                                  input_shape=(time_steps,1), activation='tanh')\n",
    "model_attention.fit(np.array(X_train), np.array(y_train), epochs=10, batch_size=32, validation_data=(np.array(X_test), np.array(y_test)))\n"
   ]
  },
  {
   "cell_type": "code",
   "execution_count": null,
   "metadata": {},
   "outputs": [],
   "source": [
    "# Evaluate models\n",
    "def evaluate_model(model, X_test, y_test):\n",
    "    y_pred = np.argmax(model.predict(X_test), axis=-1)\n",
    "    accuracy = accuracy_score(y_test, y_pred)\n",
    "    f1 = f1_score(y_test, y_pred, average='weighted')\n",
    "    precision = precision_score(y_test, y_pred, average='weighted')\n",
    "    recall = recall_score(y_test, y_pred, average='weighted')\n",
    "    cf= classification_report(y_pred,y_test)\n",
    "\n",
    "    conf_matrix = confusion_matrix(y_pred,y_test)\n",
    "    sns.heatmap(conf_matrix,annot=True,cmap='coolwarm')\n",
    "    return accuracy, f1, precision, recall,cf\n"
   ]
  },
  {
   "cell_type": "code",
   "execution_count": null,
   "metadata": {},
   "outputs": [],
   "source": [
    "cnn_accuracy, cnn_f1, cnn_precision, cnn_recall,cnn_cf = evaluate_model(cnn_model, X_test, y_test)\n",
    "\n",
    "print(\"CNN Model Metrics:\")\n",
    "print(f\"Accuracy: {cnn_accuracy}, F1 Score: {cnn_f1}, Precision: {cnn_precision}, Recall: {cnn_recall}\")\n",
    "print(f\"Accuracy,Precision,Recall and F1 score for each class\\n{cnn_cf}\")"
   ]
  },
  {
   "cell_type": "code",
   "execution_count": null,
   "metadata": {},
   "outputs": [],
   "source": [
    "birnn_accuracy, birnn_f1, birnn_precision, birnn_recall,birnn_cf = evaluate_model(birnn_model, X_test, y_test)\n",
    "\n",
    "print(\"BiRNN Model Metrics:\")\n",
    "print(f\"Accuracy: {birnn_accuracy}, F1 Score: {birnn_f1}, Precision: {birnn_precision}, Recall: {birnn_recall}\")\n",
    "print(f\"Accuracy,Precision,Recall and F1 score for each class\\n{birnn_cf}\")\n"
   ]
  },
  {
   "cell_type": "code",
   "execution_count": null,
   "metadata": {},
   "outputs": [],
   "source": [
    "att_accuracy, att_f1, att_precision, att_recall,att_cf = evaluate_model(model_attention, X_test, y_test)\n",
    "\n",
    "print(\"Attention Model Metrics:\")\n",
    "print(f\"Accuracy: {att_accuracy}, F1 Score: {att_f1}, Precision: {att_precision}, Recall: {att_recall}\")\n",
    "print(f\"Accuracy,Precision,Recall and F1 score for each class\\n{att_cf}\")\n"
   ]
  },
  {
   "cell_type": "code",
   "execution_count": null,
   "metadata": {},
   "outputs": [],
   "source": []
  },
  {
   "cell_type": "code",
   "execution_count": null,
   "metadata": {},
   "outputs": [],
   "source": []
  },
  {
   "cell_type": "code",
   "execution_count": null,
   "metadata": {},
   "outputs": [],
   "source": []
  }
 ],
 "metadata": {
  "colab": {
   "provenance": []
  },
  "kernelspec": {
   "display_name": "Python 3",
   "language": "python",
   "name": "python3"
  },
  "language_info": {
   "codemirror_mode": {
    "name": "ipython",
    "version": 3
   },
   "file_extension": ".py",
   "mimetype": "text/x-python",
   "name": "python",
   "nbconvert_exporter": "python",
   "pygments_lexer": "ipython3",
   "version": "3.8.8"
  }
 },
 "nbformat": 4,
 "nbformat_minor": 1
}
